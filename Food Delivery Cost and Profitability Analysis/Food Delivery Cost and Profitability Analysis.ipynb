{
 "cells": [
  {
   "cell_type": "code",
   "execution_count": 1,
   "metadata": {},
   "outputs": [],
   "source": [
    "import numpy as np\n",
    "import pandas as pd\n",
    "import matplotlib.pyplot as plt\n",
    "import seaborn as sns\n",
    "\n",
    "\n",
    "from datetime import datetime"
   ]
  },
  {
   "cell_type": "code",
   "execution_count": 2,
   "metadata": {},
   "outputs": [],
   "source": [
    "df=pd.read_csv(r'C:\\Users\\Saravanan\\OneDrive\\Desktop\\DAP\\food\\food_orders_new_delhi.csv')"
   ]
  },
  {
   "cell_type": "code",
   "execution_count": 3,
   "metadata": {},
   "outputs": [
    {
     "data": {
      "text/html": [
       "<div>\n",
       "<style scoped>\n",
       "    .dataframe tbody tr th:only-of-type {\n",
       "        vertical-align: middle;\n",
       "    }\n",
       "\n",
       "    .dataframe tbody tr th {\n",
       "        vertical-align: top;\n",
       "    }\n",
       "\n",
       "    .dataframe thead th {\n",
       "        text-align: right;\n",
       "    }\n",
       "</style>\n",
       "<table border=\"1\" class=\"dataframe\">\n",
       "  <thead>\n",
       "    <tr style=\"text-align: right;\">\n",
       "      <th></th>\n",
       "      <th>Order ID</th>\n",
       "      <th>Customer ID</th>\n",
       "      <th>Restaurant ID</th>\n",
       "      <th>Order Date and Time</th>\n",
       "      <th>Delivery Date and Time</th>\n",
       "      <th>Order Value</th>\n",
       "      <th>Delivery Fee</th>\n",
       "      <th>Payment Method</th>\n",
       "      <th>Discounts and Offers</th>\n",
       "      <th>Commission Fee</th>\n",
       "      <th>Payment Processing Fee</th>\n",
       "      <th>Refunds/Chargebacks</th>\n",
       "    </tr>\n",
       "  </thead>\n",
       "  <tbody>\n",
       "    <tr>\n",
       "      <th>0</th>\n",
       "      <td>1</td>\n",
       "      <td>C8270</td>\n",
       "      <td>R2924</td>\n",
       "      <td>2024-02-01 01:11:52</td>\n",
       "      <td>2024-02-01 02:39:52</td>\n",
       "      <td>1914</td>\n",
       "      <td>0</td>\n",
       "      <td>Credit Card</td>\n",
       "      <td>5% on App</td>\n",
       "      <td>150</td>\n",
       "      <td>47</td>\n",
       "      <td>0</td>\n",
       "    </tr>\n",
       "    <tr>\n",
       "      <th>1</th>\n",
       "      <td>2</td>\n",
       "      <td>C1860</td>\n",
       "      <td>R2054</td>\n",
       "      <td>2024-02-02 22:11:04</td>\n",
       "      <td>2024-02-02 22:46:04</td>\n",
       "      <td>986</td>\n",
       "      <td>40</td>\n",
       "      <td>Digital Wallet</td>\n",
       "      <td>10%</td>\n",
       "      <td>198</td>\n",
       "      <td>23</td>\n",
       "      <td>0</td>\n",
       "    </tr>\n",
       "    <tr>\n",
       "      <th>2</th>\n",
       "      <td>3</td>\n",
       "      <td>C6390</td>\n",
       "      <td>R2870</td>\n",
       "      <td>2024-01-31 05:54:35</td>\n",
       "      <td>2024-01-31 06:52:35</td>\n",
       "      <td>937</td>\n",
       "      <td>30</td>\n",
       "      <td>Cash on Delivery</td>\n",
       "      <td>15% New User</td>\n",
       "      <td>195</td>\n",
       "      <td>45</td>\n",
       "      <td>0</td>\n",
       "    </tr>\n",
       "    <tr>\n",
       "      <th>3</th>\n",
       "      <td>4</td>\n",
       "      <td>C6191</td>\n",
       "      <td>R2642</td>\n",
       "      <td>2024-01-16 22:52:49</td>\n",
       "      <td>2024-01-16 23:38:49</td>\n",
       "      <td>1463</td>\n",
       "      <td>50</td>\n",
       "      <td>Cash on Delivery</td>\n",
       "      <td>NaN</td>\n",
       "      <td>146</td>\n",
       "      <td>27</td>\n",
       "      <td>0</td>\n",
       "    </tr>\n",
       "    <tr>\n",
       "      <th>4</th>\n",
       "      <td>5</td>\n",
       "      <td>C6734</td>\n",
       "      <td>R2799</td>\n",
       "      <td>2024-01-29 01:19:30</td>\n",
       "      <td>2024-01-29 02:48:30</td>\n",
       "      <td>1992</td>\n",
       "      <td>30</td>\n",
       "      <td>Cash on Delivery</td>\n",
       "      <td>50 off Promo</td>\n",
       "      <td>130</td>\n",
       "      <td>50</td>\n",
       "      <td>0</td>\n",
       "    </tr>\n",
       "  </tbody>\n",
       "</table>\n",
       "</div>"
      ],
      "text/plain": [
       "   Order ID Customer ID Restaurant ID  Order Date and Time  \\\n",
       "0         1       C8270         R2924  2024-02-01 01:11:52   \n",
       "1         2       C1860         R2054  2024-02-02 22:11:04   \n",
       "2         3       C6390         R2870  2024-01-31 05:54:35   \n",
       "3         4       C6191         R2642  2024-01-16 22:52:49   \n",
       "4         5       C6734         R2799  2024-01-29 01:19:30   \n",
       "\n",
       "  Delivery Date and Time  Order Value  Delivery Fee    Payment Method  \\\n",
       "0    2024-02-01 02:39:52         1914             0       Credit Card   \n",
       "1    2024-02-02 22:46:04          986            40    Digital Wallet   \n",
       "2    2024-01-31 06:52:35          937            30  Cash on Delivery   \n",
       "3    2024-01-16 23:38:49         1463            50  Cash on Delivery   \n",
       "4    2024-01-29 02:48:30         1992            30  Cash on Delivery   \n",
       "\n",
       "  Discounts and Offers  Commission Fee  Payment Processing Fee  \\\n",
       "0            5% on App             150                      47   \n",
       "1                  10%             198                      23   \n",
       "2         15% New User             195                      45   \n",
       "3                  NaN             146                      27   \n",
       "4         50 off Promo             130                      50   \n",
       "\n",
       "   Refunds/Chargebacks  \n",
       "0                    0  \n",
       "1                    0  \n",
       "2                    0  \n",
       "3                    0  \n",
       "4                    0  "
      ]
     },
     "execution_count": 3,
     "metadata": {},
     "output_type": "execute_result"
    }
   ],
   "source": [
    "df.head()"
   ]
  },
  {
   "cell_type": "code",
   "execution_count": 4,
   "metadata": {},
   "outputs": [
    {
     "name": "stdout",
     "output_type": "stream",
     "text": [
      "<class 'pandas.core.frame.DataFrame'>\n",
      "RangeIndex: 1000 entries, 0 to 999\n",
      "Data columns (total 12 columns):\n",
      " #   Column                  Non-Null Count  Dtype \n",
      "---  ------                  --------------  ----- \n",
      " 0   Order ID                1000 non-null   int64 \n",
      " 1   Customer ID             1000 non-null   object\n",
      " 2   Restaurant ID           1000 non-null   object\n",
      " 3   Order Date and Time     1000 non-null   object\n",
      " 4   Delivery Date and Time  1000 non-null   object\n",
      " 5   Order Value             1000 non-null   int64 \n",
      " 6   Delivery Fee            1000 non-null   int64 \n",
      " 7   Payment Method          1000 non-null   object\n",
      " 8   Discounts and Offers    815 non-null    object\n",
      " 9   Commission Fee          1000 non-null   int64 \n",
      " 10  Payment Processing Fee  1000 non-null   int64 \n",
      " 11  Refunds/Chargebacks     1000 non-null   int64 \n",
      "dtypes: int64(6), object(6)\n",
      "memory usage: 93.9+ KB\n"
     ]
    }
   ],
   "source": [
    "df.info()"
   ]
  },
  {
   "cell_type": "code",
   "execution_count": 5,
   "metadata": {},
   "outputs": [
    {
     "data": {
      "text/plain": [
       "np.int64(0)"
      ]
     },
     "execution_count": 5,
     "metadata": {},
     "output_type": "execute_result"
    }
   ],
   "source": [
    "df.duplicated().sum()"
   ]
  },
  {
   "cell_type": "code",
   "execution_count": 6,
   "metadata": {},
   "outputs": [],
   "source": [
    "df['Order Date and Time']=pd.to_datetime(df['Order Date and Time'])\n",
    "df['Delivery Date and Time']=pd.to_datetime(df['Delivery Date and Time'])"
   ]
  },
  {
   "cell_type": "code",
   "execution_count": 7,
   "metadata": {},
   "outputs": [
    {
     "name": "stdout",
     "output_type": "stream",
     "text": [
      "   Order Value Discounts and Offers  Discount Percentage  Discount Amount\n",
      "0         1914            5% on App                  5.0            95.70\n",
      "1          986                  10%                 10.0            98.60\n",
      "2          937         15% New User                 15.0           140.55\n",
      "3         1463          No Discount                  0.0             0.00\n",
      "4         1992         50 off Promo                 50.0           996.00\n",
      "Order ID                           int64\n",
      "Customer ID                       object\n",
      "Restaurant ID                     object\n",
      "Order Date and Time       datetime64[ns]\n",
      "Delivery Date and Time    datetime64[ns]\n",
      "Order Value                        int64\n",
      "Delivery Fee                       int64\n",
      "Payment Method                    object\n",
      "Discounts and Offers              object\n",
      "Commission Fee                     int64\n",
      "Payment Processing Fee             int64\n",
      "Refunds/Chargebacks                int64\n",
      "Discount Percentage              float64\n",
      "Discount Amount                  float64\n",
      "dtype: object\n"
     ]
    }
   ],
   "source": [
    "# Handle missing values in 'Discounts and Offers' by filling NaN with an empty string\n",
    "df['Discounts and Offers'] = df['Discounts and Offers'].fillna('No Discount')\n",
    "\n",
    "# Function to extract numeric values from 'Discounts and Offers'\n",
    "def extract_discount(discount_str):\n",
    "    if 'off' in discount_str:\n",
    "        # Fixed amount off\n",
    "        return float(discount_str.split(' ')[0])\n",
    "    elif '%' in discount_str:\n",
    "        # Percentage off\n",
    "        return float(discount_str.split('%')[0])\n",
    "    else:\n",
    "        # No discount or unrecognized format\n",
    "        return 0.0\n",
    "\n",
    "# Apply the function to create a new 'Discount Percentage' column\n",
    "df['Discount Percentage'] = df['Discounts and Offers'].apply(lambda x: extract_discount(x))\n",
    "\n",
    "# Calculate discount amount based on the order value\n",
    "df['Discount Amount'] = df.apply(lambda x: (x['Order Value'] * x['Discount Percentage'] / 100)\n",
    "                                 if x['Discount Percentage'] > 1\n",
    "                                 else x['Discount Percentage'], axis=1)\n",
    "\n",
    "# Adjust 'Discount Amount' for fixed discounts specified in the 'Discounts and Offers' column\n",
    "df['Discount Amount'] = df.apply(lambda x: x['Discount Amount']\n",
    "                                 if x['Discount Percentage'] <= 1\n",
    "                                 else x['Order Value'] * x['Discount Percentage'] / 100, axis=1)\n",
    "\n",
    "# Display the relevant columns and data types\n",
    "print(df[['Order Value', 'Discounts and Offers', 'Discount Percentage', 'Discount Amount']].head())\n",
    "print(df.dtypes)\n"
   ]
  },
  {
   "cell_type": "markdown",
   "metadata": {},
   "source": [
    "Cost and Profitability Analysis"
   ]
  },
  {
   "cell_type": "code",
   "execution_count": 8,
   "metadata": {},
   "outputs": [],
   "source": [
    "df['Total Cost']=df['Delivery Fee']+df['Payment Processing Fee']+df['Discount Amount']\n",
    "df['Revenue']=df['Commission Fee']\n",
    "df['Profit']=df['Revenue']-df['Total Cost']\n",
    "\n",
    "total_order=df.shape[0]\n",
    "total_revenue=df['Revenue'].sum()\n",
    "total_cost=df['Total Cost'].sum()\n",
    "total_profit=df['Profit'].sum()\n",
    "\n",
    "overall_cost={\n",
    "    'Total Order':total_order,\n",
    "    'Total_Revenue':total_revenue,\n",
    "    'Total Cost':total_cost,\n",
    "    'Total Profit':total_profit\n",
    "}"
   ]
  },
  {
   "cell_type": "code",
   "execution_count": 9,
   "metadata": {},
   "outputs": [
    {
     "data": {
      "text/plain": [
       "{'Total Order': 1000,\n",
       " 'Total_Revenue': np.int64(126990),\n",
       " 'Total Cost': np.float64(232709.85),\n",
       " 'Total Profit': np.float64(-105719.85)}"
      ]
     },
     "execution_count": 9,
     "metadata": {},
     "output_type": "execute_result"
    }
   ],
   "source": [
    "overall_cost"
   ]
  },
  {
   "cell_type": "code",
   "execution_count": 10,
   "metadata": {},
   "outputs": [
    {
     "data": {
      "image/png": "[encoded data removed]",
      "text/plain": [
       "<Figure size 1000x800 with 1 Axes>"
      ]
     },
     "metadata": {},
     "output_type": "display_data"
    }
   ],
   "source": [
    "plt.figure(figsize=(10,8))\n",
    "plt.hist(df['Profit'],bins=50,color='orange',edgecolor='white')\n",
    "plt.title('Profit Distribution per Order in Food Delivery')\n",
    "plt.xlabel('Profit')\n",
    "plt.ylabel('Number of Orders')\n",
    "plt.show()"
   ]
  },
  {
   "cell_type": "code",
   "execution_count": 11,
   "metadata": {},
   "outputs": [
    {
     "data": {
      "image/png": "[encoded data removed]",
      "text/plain": [
       "<Figure size 1000x800 with 1 Axes>"
      ]
     },
     "metadata": {},
     "output_type": "display_data"
    }
   ],
   "source": [
    "plt.figure(figsize=(10,8))\n",
    "plt.hist(df['Profit'],bins=50,color='orange',edgecolor='white')\n",
    "plt.title('Profit Distribution per Order in Food Delivery')\n",
    "plt.xlabel('Profit')\n",
    "plt.ylabel('Number of Orders')\n",
    "plt.axvline(df['Profit'].mean(),color='green',linewidth=2)\n",
    "plt.show()"
   ]
  },
  {
   "cell_type": "markdown",
   "metadata": {},
   "source": [
    "proportion of total costs"
   ]
  },
  {
   "cell_type": "code",
   "execution_count": 12,
   "metadata": {},
   "outputs": [
    {
     "data": {
      "image/png": "[encoded data removed]",
      "text/plain": [
       "<Figure size 700x700 with 1 Axes>"
      ]
     },
     "metadata": {},
     "output_type": "display_data"
    }
   ],
   "source": [
    "costs_breakdown = df[['Delivery Fee', 'Payment Processing Fee', 'Discount Amount']].sum()\n",
    "plt.figure(figsize=(7, 7))\n",
    "plt.pie(costs_breakdown, labels=costs_breakdown.index, autopct='%1.1f%%', startangle=140, colors=['red', 'yellow', 'green'])\n",
    "plt.title('Proportion of Total Costs in Food Delivery')\n",
    "plt.show()"
   ]
  },
  {
   "cell_type": "code",
   "execution_count": 13,
   "metadata": {},
   "outputs": [],
   "source": [
    "totals = ['Total Revenue', 'Total Costs', 'Total Profit']\n",
    "values = [total_revenue, total_cost, total_profit]"
   ]
  },
  {
   "cell_type": "code",
   "execution_count": 14,
   "metadata": {},
   "outputs": [
    {
     "data": {
      "image/png": "[encoded data removed]",
      "text/plain": [
       "<Figure size 800x600 with 1 Axes>"
      ]
     },
     "metadata": {},
     "output_type": "display_data"
    }
   ],
   "source": [
    "plt.figure(figsize=(8, 6))\n",
    "plt.barh(totals, values, color=['green', 'red', 'blue'])\n",
    "plt.title('Total Revenue, Costs, and Profit')\n",
    "plt.xlabel('Amount (INR)')\n",
    "plt.show()\n"
   ]
  },
  {
   "cell_type": "code",
   "execution_count": 15,
   "metadata": {},
   "outputs": [
    {
     "data": {
      "image/png": "[encoded data removed]",
      "text/plain": [
       "<Figure size 800x600 with 1 Axes>"
      ]
     },
     "metadata": {},
     "output_type": "display_data"
    }
   ],
   "source": [
    "costs_and_profit = [total_cost, total_profit]\n",
    "plt.figure(figsize=(8, 6))\n",
    "plt.bar('Total Revenue', total_revenue, color='green', label='Revenue')\n",
    "plt.bar('Total Revenue', total_cost, bottom=total_revenue, color='red', label='Costs')\n",
    "plt.bar('Total Revenue', total_profit, bottom=total_revenue + total_cost, color='blue', label='Profit')\n",
    "plt.title('Stacked Bar Chart of Revenue, Costs, and Profit')\n",
    "plt.ylabel('Amount (INR)')\n",
    "plt.legend()\n",
    "plt.show()\n"
   ]
  },
  {
   "cell_type": "markdown",
   "metadata": {},
   "source": [
    "The average commission percentage for profitable orders.\n",
    "The average discount percentage for profitable orders."
   ]
  },
  {
   "cell_type": "code",
   "execution_count": 16,
   "metadata": {},
   "outputs": [
    {
     "name": "stdout",
     "output_type": "stream",
     "text": [
      "30.508436145149435 5.867469879518072\n"
     ]
    },
    {
     "name": "stderr",
     "output_type": "stream",
     "text": [
      "C:\\Users\\Saravanan\\AppData\\Local\\Temp\\ipykernel_21328\\1524930468.py:5: SettingWithCopyWarning: \n",
      "A value is trying to be set on a copy of a slice from a DataFrame.\n",
      "Try using .loc[row_indexer,col_indexer] = value instead\n",
      "\n",
      "See the caveats in the documentation: https://pandas.pydata.org/pandas-docs/stable/user_guide/indexing.html#returning-a-view-versus-a-copy\n",
      "  profitable_orders['Commission Percentage'] = (profitable_orders['Commission Fee'] / profitable_orders['Order Value']) * 100\n",
      "C:\\Users\\Saravanan\\AppData\\Local\\Temp\\ipykernel_21328\\1524930468.py:8: SettingWithCopyWarning: \n",
      "A value is trying to be set on a copy of a slice from a DataFrame.\n",
      "Try using .loc[row_indexer,col_indexer] = value instead\n",
      "\n",
      "See the caveats in the documentation: https://pandas.pydata.org/pandas-docs/stable/user_guide/indexing.html#returning-a-view-versus-a-copy\n",
      "  profitable_orders['Effective Discount Percentage'] = (profitable_orders['Discount Amount'] / profitable_orders['Order Value']) * 100\n"
     ]
    }
   ],
   "source": [
    "# filter the dataset for profitable orders\n",
    "profitable_orders = df[df['Profit'] > 0]\n",
    "\n",
    "# calculate the average commission percentage for profitable orders\n",
    "profitable_orders['Commission Percentage'] = (profitable_orders['Commission Fee'] / profitable_orders['Order Value']) * 100\n",
    "\n",
    "# calculate the average discount percentage for profitable orders\n",
    "profitable_orders['Effective Discount Percentage'] = (profitable_orders['Discount Amount'] / profitable_orders['Order Value']) * 100\n",
    "\n",
    "# calculate the new averages\n",
    "new_avg_commission_percentage = profitable_orders['Commission Percentage'].mean()\n",
    "new_avg_discount_percentage = profitable_orders['Effective Discount Percentage'].mean()\n",
    "\n",
    "print(new_avg_commission_percentage, new_avg_discount_percentage)"
   ]
  },
  {
   "cell_type": "code",
   "execution_count": 18,
   "metadata": {},
   "outputs": [
    {
     "data": {
      "image/png": "[encoded data removed]",
      "text/plain": [
       "<Figure size 1400x700 with 1 Axes>"
      ]
     },
     "metadata": {},
     "output_type": "display_data"
    }
   ],
   "source": [
    "# simulate profitability with recommended discounts and commissions\n",
    "recommended_commission_percentage = 30.0  # 30%\n",
    "recommended_discount_percentage = 6.0    # 6%\n",
    "\n",
    "# calculate the simulated commission fee and discount amount using recommended percentages\n",
    "df['Simulated Commission Fee'] = df['Order Value'] * (recommended_commission_percentage / 100)\n",
    "df['Simulated Discount Amount'] = df['Order Value'] * (recommended_discount_percentage / 100)\n",
    "\n",
    "# recalculate total costs and profit with simulated values\n",
    "df['Simulated Total Costs'] = (df['Delivery Fee'] +\n",
    "                                        df['Payment Processing Fee'] +\n",
    "                                        df['Simulated Discount Amount'])\n",
    "\n",
    "df['Simulated Profit'] = (df['Simulated Commission Fee'] -\n",
    "                                   df['Simulated Total Costs'])\n",
    "\n",
    "# visualizing the comparison\n",
    "import seaborn as sns\n",
    "\n",
    "plt.figure(figsize=(14, 7))\n",
    "\n",
    "# actual profitability\n",
    "sns.kdeplot(df['Profit'], label='Actual Profitability', fill=True, alpha=0.5, linewidth=2)\n",
    "\n",
    "# simulated profitability\n",
    "sns.kdeplot(df['Simulated Profit'], label='Estimated Profitability with Recommended Rates', fill=True, alpha=0.5, linewidth=2)\n",
    "\n",
    "plt.title('Comparison of Profitability in Food Delivery: Actual vs. Recommended Discounts and Commissions')\n",
    "plt.xlabel('Profit')\n",
    "plt.ylabel('Density')\n",
    "plt.legend(loc='upper left')\n",
    "plt.show()"
   ]
  },
  {
   "cell_type": "code",
   "execution_count": 20,
   "metadata": {},
   "outputs": [
    {
     "data": {
      "text/plain": [
       "array(['Credit Card', 'Digital Wallet', 'Cash on Delivery'], dtype=object)"
      ]
     },
     "execution_count": 20,
     "metadata": {},
     "output_type": "execute_result"
    }
   ],
   "source": [
    "df['Payment Method'].unique()"
   ]
  },
  {
   "cell_type": "code",
   "execution_count": 29,
   "metadata": {},
   "outputs": [
    {
     "data": {
      "image/png": "[encoded data removed]",
      "text/plain": [
       "<Figure size 1000x800 with 1 Axes>"
      ]
     },
     "metadata": {},
     "output_type": "display_data"
    }
   ],
   "source": [
    "plt.figure(figsize=(10,8))\n",
    "sns.barplot(x=df['Payment Method'], y=df['Order Value'])\n",
    "plt.title('Distribution of Order Value by Payment Method')\n",
    "plt.xlabel('Payment Method')\n",
    "plt.ylabel('Order Value')\n",
    "plt.show()\n"
   ]
  },
  {
   "cell_type": "code",
   "execution_count": 26,
   "metadata": {},
   "outputs": [
    {
     "data": {
      "application/vnd.plotly.v1+json": {
       "config": {
        "plotlyServerURL": "https://plot.ly"
       },
       "data": [
        {
         "alignmentgroup": "True",
         "hovertemplate": "Payment Method=%{x}<br>Order Value=%{y}<extra></extra>",
         "legendgroup": "Credit Card",
         "marker": {
          "color": "#636efa",
          "pattern": {
           "shape": ""
          }
         },
         "name": "Credit Card",
         "offsetgroup": "Credit Card",
         "orientation": "v",
         "showlegend": true,
         "textposition": "auto",
         "type": "bar",
         "x": [
          "Credit Card",
          "Credit Card",
          "Credit Card",
          "Credit Card",
          "Credit Card",
          "Credit Card",
          "Credit Card",
          "Credit Card",
          "Credit Card",
          "Credit Card",
          "Credit Card",
          "Credit Card",
          "Credit Card",
          "Credit Card",
          "Credit Card",
          "Credit Card",
          "Credit Card",
          "Credit Card",
          "Credit Card",
          "Credit Card",
          "Credit Card",
          "Credit Card",
          "Credit Card",
          "Credit Card",
          "Credit Card",
          "Credit Card",
          "Credit Card",
          "Credit Card",
          "Credit Card",
          "Credit Card",
          "Credit Card",
          "Credit Card",
          "Credit Card",
          "Credit Card",
          "Credit Card",
          "Credit Card",
          "Credit Card",
          "Credit Card",
          "Credit Card",
          "Credit Card",
          "Credit Card",
          "Credit Card",
          "Credit Card",
          "Credit Card",
          "Credit Card",
          "Credit Card",
          "Credit Card",
          "Credit Card",
          "Credit Card",
          "Credit Card",
          "Credit Card",
          "Credit Card",
          "Credit Card",
          "Credit Card",
          "Credit Card",
          "Credit Card",
          "Credit Card",
          "Credit Card",
          "Credit Card",
          "Credit Card",
          "Credit Card",
          "Credit Card",
          "Credit Card",
          "Credit Card",
          "Credit Card",
          "Credit Card",
          "Credit Card",
          "Credit Card",
          "Credit Card",
          "Credit Card",
          "Credit Card",
          "Credit Card",
          "Credit Card",
          "Credit Card",
          "Credit Card",
          "Credit Card",
          "Credit Card",
          "Credit Card",
          "Credit Card",
          "Credit Card",
          "Credit Card",
          "Credit Card",
          "Credit Card",
          "Credit Card",
          "Credit Card",
          "Credit Card",
          "Credit Card",
          "Credit Card",
          "Credit Card",
          "Credit Card",
          "Credit Card",
          "Credit Card",
          "Credit Card",
          "Credit Card",
          "Credit Card",
          "Credit Card",
          "Credit Card",
          "Credit Card",
          "Credit Card",
          "Credit Card",
          "Credit Card",
          "Credit Card",
          "Credit Card",
          "Credit Card",
          "Credit Card",
          "Credit Card",
          "Credit Card",
          "Credit Card",
          "Credit Card",
          "Credit Card",
          "Credit Card",
          "Credit Card",
          "Credit Card",
          "Credit Card",
          "Credit Card",
          "Credit Card",
          "Credit Card",
          "Credit Card",
          "Credit Card",
          "Credit Card",
          "Credit Card",
          "Credit Card",
          "Credit Card",
          "Credit Card",
          "Credit Card",
          "Credit Card",
          "Credit Card",
          "Credit Card",
          "Credit Card",
          "Credit Card",
          "Credit Card",
          "Credit Card",
          "Credit Card",
          "Credit Card",
          "Credit Card",
          "Credit Card",
          "Credit Card",
          "Credit Card",
          "Credit Card",
          "Credit Card",
          "Credit Card",
          "Credit Card",
          "Credit Card",
          "Credit Card",
          "Credit Card",
          "Credit Card",
          "Credit Card",
          "Credit Card",
          "Credit Card",
          "Credit Card",
          "Credit Card",
          "Credit Card",
          "Credit Card",
          "Credit Card",
          "Credit Card",
          "Credit Card",
          "Credit Card",
          "Credit Card",
          "Credit Card",
          "Credit Card",
          "Credit Card",
          "Credit Card",
          "Credit Card",
          "Credit Card",
          "Credit Card",
          "Credit Card",
          "Credit Card",
          "Credit Card",
          "Credit Card",
          "Credit Card",
          "Credit Card",
          "Credit Card",
          "Credit Card",
          "Credit Card",
          "Credit Card",
          "Credit Card",
          "Credit Card",
          "Credit Card",
          "Credit Card",
          "Credit Card",
          "Credit Card",
          "Credit Card",
          "Credit Card",
          "Credit Card",
          "Credit Card",
          "Credit Card",
          "Credit Card",
          "Credit Card",
          "Credit Card",
          "Credit Card",
          "Credit Card",
          "Credit Card",
          "Credit Card",
          "Credit Card",
          "Credit Card",
          "Credit Card",
          "Credit Card",
          "Credit Card",
          "Credit Card",
          "Credit Card",
          "Credit Card",
          "Credit Card",
          "Credit Card",
          "Credit Card",
          "Credit Card",
          "Credit Card",
          "Credit Card",
          "Credit Card",
          "Credit Card",
          "Credit Card",
          "Credit Card",
          "Credit Card",
          "Credit Card",
          "Credit Card",
          "Credit Card",
          "Credit Card",
          "Credit Card",
          "Credit Card",
          "Credit Card",
          "Credit Card",
          "Credit Card",
          "Credit Card",
          "Credit Card",
          "Credit Card",
          "Credit Card",
          "Credit Card",
          "Credit Card",
          "Credit Card",
          "Credit Card",
          "Credit Card",
          "Credit Card",
          "Credit Card",
          "Credit Card",
          "Credit Card",
          "Credit Card",
          "Credit Card",
          "Credit Card",
          "Credit Card",
          "Credit Card",
          "Credit Card",
          "Credit Card",
          "Credit Card",
          "Credit Card",
          "Credit Card",
          "Credit Card",
          "Credit Card",
          "Credit Card",
          "Credit Card",
          "Credit Card",
          "Credit Card",
          "Credit Card",
          "Credit Card",
          "Credit Card",
          "Credit Card",
          "Credit Card",
          "Credit Card",
          "Credit Card",
          "Credit Card",
          "Credit Card",
          "Credit Card",
          "Credit Card",
          "Credit Card",
          "Credit Card",
          "Credit Card",
          "Credit Card",
          "Credit Card",
          "Credit Card",
          "Credit Card",
          "Credit Card",
          "Credit Card",
          "Credit Card",
          "Credit Card",
          "Credit Card",
          "Credit Card",
          "Credit Card",
          "Credit Card",
          "Credit Card",
          "Credit Card",
          "Credit Card",
          "Credit Card",
          "Credit Card",
          "Credit Card",
          "Credit Card",
          "Credit Card",
          "Credit Card",
          "Credit Card",
          "Credit Card",
          "Credit Card",
          "Credit Card",
          "Credit Card",
          "Credit Card",
          "Credit Card",
          "Credit Card",
          "Credit Card",
          "Credit Card",
          "Credit Card",
          "Credit Card",
          "Credit Card",
          "Credit Card",
          "Credit Card",
          "Credit Card",
          "Credit Card",
          "Credit Card",
          "Credit Card",
          "Credit Card",
          "Credit Card",
          "Credit Card",
          "Credit Card",
          "Credit Card",
          "Credit Card",
          "Credit Card",
          "Credit Card",
          "Credit Card",
          "Credit Card",
          "Credit Card",
          "Credit Card",
          "Credit Card",
          "Credit Card",
          "Credit Card",
          "Credit Card",
          "Credit Card",
          "Credit Card",
          "Credit Card",
          "Credit Card",
          "Credit Card",
          "Credit Card",
          "Credit Card",
          "Credit Card",
          "Credit Card",
          "Credit Card",
          "Credit Card",
          "Credit Card",
          "Credit Card",
          "Credit Card",
          "Credit Card",
          "Credit Card",
          "Credit Card"
         ],
         "xaxis": "x",
         "y": [
          1914,
          260,
          1800,
          1193,
          504,
          707,
          1798,
          1937,
          1811,
          1890,
          554,
          329,
          1381,
          1387,
          992,
          1673,
          1523,
          880,
          558,
          1822,
          1049,
          1019,
          1556,
          1091,
          1565,
          1976,
          636,
          1696,
          118,
          1788,
          954,
          1314,
          1784,
          879,
          1685,
          1881,
          269,
          1591,
          1137,
          387,
          288,
          1278,
          1845,
          1198,
          376,
          1548,
          1305,
          292,
          1778,
          715,
          1877,
          1042,
          529,
          474,
          1182,
          1419,
          742,
          1307,
          112,
          1072,
          1957,
          1957,
          975,
          395,
          1025,
          1844,
          739,
          1075,
          1168,
          1054,
          1634,
          1030,
          278,
          730,
          706,
          1391,
          1908,
          593,
          1194,
          463,
          1925,
          375,
          149,
          827,
          1005,
          1027,
          663,
          584,
          1928,
          1761,
          1931,
          683,
          209,
          291,
          961,
          1183,
          749,
          1172,
          1543,
          1136,
          135,
          1917,
          1209,
          1979,
          1499,
          130,
          1313,
          1389,
          1251,
          1235,
          1466,
          1268,
          1188,
          1613,
          280,
          1212,
          1494,
          1071,
          1035,
          930,
          948,
          1080,
          944,
          1843,
          1967,
          860,
          147,
          1141,
          286,
          929,
          948,
          1513,
          1195,
          1795,
          319,
          1360,
          837,
          707,
          171,
          284,
          105,
          1329,
          1005,
          1891,
          1199,
          1300,
          926,
          1960,
          482,
          624,
          1680,
          599,
          1031,
          1396,
          1451,
          208,
          427,
          1234,
          1620,
          1596,
          1125,
          821,
          1634,
          1409,
          597,
          337,
          760,
          1747,
          727,
          664,
          1948,
          748,
          1817,
          1167,
          1221,
          239,
          1116,
          1790,
          1444,
          1165,
          1825,
          1806,
          962,
          832,
          1691,
          441,
          592,
          1356,
          1494,
          238,
          1238,
          372,
          1270,
          283,
          1673,
          1242,
          1703,
          1341,
          1228,
          1351,
          182,
          1819,
          996,
          309,
          915,
          546,
          559,
          1067,
          283,
          1410,
          753,
          848,
          1634,
          901,
          1702,
          1373,
          1019,
          1101,
          1483,
          1958,
          1128,
          1406,
          563,
          1236,
          370,
          1816,
          261,
          951,
          282,
          467,
          1369,
          1724,
          248,
          727,
          1849,
          349,
          1074,
          1148,
          888,
          1083,
          1235,
          570,
          629,
          760,
          825,
          1675,
          444,
          1835,
          648,
          1984,
          684,
          1572,
          1059,
          992,
          831,
          1618,
          642,
          1711,
          1562,
          1956,
          1613,
          793,
          504,
          1332,
          121,
          1331,
          628,
          1776,
          756,
          689,
          465,
          1649,
          171,
          1876,
          514,
          1368,
          1183,
          1832,
          1081,
          669,
          1940,
          506,
          125,
          1085,
          853,
          245,
          884,
          625,
          112,
          1522,
          118,
          1103,
          221,
          531,
          143,
          244,
          1450,
          1173,
          1188,
          454,
          1264,
          1251,
          979,
          1874,
          907,
          1843,
          1313,
          1987,
          336,
          1317,
          870,
          857,
          235,
          682,
          1627,
          1075,
          897,
          757,
          522,
          1733,
          1505,
          272,
          552,
          449,
          719,
          1018,
          1741,
          556,
          1864,
          1335,
          723,
          1774,
          910,
          1524,
          1219,
          1511,
          1058
         ],
         "yaxis": "y"
        },
        {
         "alignmentgroup": "True",
         "hovertemplate": "Payment Method=%{x}<br>Order Value=%{y}<extra></extra>",
         "legendgroup": "Digital Wallet",
         "marker": {
          "color": "#EF553B",
          "pattern": {
           "shape": ""
          }
         },
         "name": "Digital Wallet",
         "offsetgroup": "Digital Wallet",
         "orientation": "v",
         "showlegend": true,
         "textposition": "auto",
         "type": "bar",
         "x": [
          "Digital Wallet",
          "Digital Wallet",
          "Digital Wallet",
          "Digital Wallet",
          "Digital Wallet",
          "Digital Wallet",
          "Digital Wallet",
          "Digital Wallet",
          "Digital Wallet",
          "Digital Wallet",
          "Digital Wallet",
          "Digital Wallet",
          "Digital Wallet",
          "Digital Wallet",
          "Digital Wallet",
          "Digital Wallet",
          "Digital Wallet",
          "Digital Wallet",
          "Digital Wallet",
          "Digital Wallet",
          "Digital Wallet",
          "Digital Wallet",
          "Digital Wallet",
          "Digital Wallet",
          "Digital Wallet",
          "Digital Wallet",
          "Digital Wallet",
          "Digital Wallet",
          "Digital Wallet",
          "Digital Wallet",
          "Digital Wallet",
          "Digital Wallet",
          "Digital Wallet",
          "Digital Wallet",
          "Digital Wallet",
          "Digital Wallet",
          "Digital Wallet",
          "Digital Wallet",
          "Digital Wallet",
          "Digital Wallet",
          "Digital Wallet",
          "Digital Wallet",
          "Digital Wallet",
          "Digital Wallet",
          "Digital Wallet",
          "Digital Wallet",
          "Digital Wallet",
          "Digital Wallet",
          "Digital Wallet",
          "Digital Wallet",
          "Digital Wallet",
          "Digital Wallet",
          "Digital Wallet",
          "Digital Wallet",
          "Digital Wallet",
          "Digital Wallet",
          "Digital Wallet",
          "Digital Wallet",
          "Digital Wallet",
          "Digital Wallet",
          "Digital Wallet",
          "Digital Wallet",
          "Digital Wallet",
          "Digital Wallet",
          "Digital Wallet",
          "Digital Wallet",
          "Digital Wallet",
          "Digital Wallet",
          "Digital Wallet",
          "Digital Wallet",
          "Digital Wallet",
          "Digital Wallet",
          "Digital Wallet",
          "Digital Wallet",
          "Digital Wallet",
          "Digital Wallet",
          "Digital Wallet",
          "Digital Wallet",
          "Digital Wallet",
          "Digital Wallet",
          "Digital Wallet",
          "Digital Wallet",
          "Digital Wallet",
          "Digital Wallet",
          "Digital Wallet",
          "Digital Wallet",
          "Digital Wallet",
          "Digital Wallet",
          "Digital Wallet",
          "Digital Wallet",
          "Digital Wallet",
          "Digital Wallet",
          "Digital Wallet",
          "Digital Wallet",
          "Digital Wallet",
          "Digital Wallet",
          "Digital Wallet",
          "Digital Wallet",
          "Digital Wallet",
          "Digital Wallet",
          "Digital Wallet",
          "Digital Wallet",
          "Digital Wallet",
          "Digital Wallet",
          "Digital Wallet",
          "Digital Wallet",
          "Digital Wallet",
          "Digital Wallet",
          "Digital Wallet",
          "Digital Wallet",
          "Digital Wallet",
          "Digital Wallet",
          "Digital Wallet",
          "Digital Wallet",
          "Digital Wallet",
          "Digital Wallet",
          "Digital Wallet",
          "Digital Wallet",
          "Digital Wallet",
          "Digital Wallet",
          "Digital Wallet",
          "Digital Wallet",
          "Digital Wallet",
          "Digital Wallet",
          "Digital Wallet",
          "Digital Wallet",
          "Digital Wallet",
          "Digital Wallet",
          "Digital Wallet",
          "Digital Wallet",
          "Digital Wallet",
          "Digital Wallet",
          "Digital Wallet",
          "Digital Wallet",
          "Digital Wallet",
          "Digital Wallet",
          "Digital Wallet",
          "Digital Wallet",
          "Digital Wallet",
          "Digital Wallet",
          "Digital Wallet",
          "Digital Wallet",
          "Digital Wallet",
          "Digital Wallet",
          "Digital Wallet",
          "Digital Wallet",
          "Digital Wallet",
          "Digital Wallet",
          "Digital Wallet",
          "Digital Wallet",
          "Digital Wallet",
          "Digital Wallet",
          "Digital Wallet",
          "Digital Wallet",
          "Digital Wallet",
          "Digital Wallet",
          "Digital Wallet",
          "Digital Wallet",
          "Digital Wallet",
          "Digital Wallet",
          "Digital Wallet",
          "Digital Wallet",
          "Digital Wallet",
          "Digital Wallet",
          "Digital Wallet",
          "Digital Wallet",
          "Digital Wallet",
          "Digital Wallet",
          "Digital Wallet",
          "Digital Wallet",
          "Digital Wallet",
          "Digital Wallet",
          "Digital Wallet",
          "Digital Wallet",
          "Digital Wallet",
          "Digital Wallet",
          "Digital Wallet",
          "Digital Wallet",
          "Digital Wallet",
          "Digital Wallet",
          "Digital Wallet",
          "Digital Wallet",
          "Digital Wallet",
          "Digital Wallet",
          "Digital Wallet",
          "Digital Wallet",
          "Digital Wallet",
          "Digital Wallet",
          "Digital Wallet",
          "Digital Wallet",
          "Digital Wallet",
          "Digital Wallet",
          "Digital Wallet",
          "Digital Wallet",
          "Digital Wallet",
          "Digital Wallet",
          "Digital Wallet",
          "Digital Wallet",
          "Digital Wallet",
          "Digital Wallet",
          "Digital Wallet",
          "Digital Wallet",
          "Digital Wallet",
          "Digital Wallet",
          "Digital Wallet",
          "Digital Wallet",
          "Digital Wallet",
          "Digital Wallet",
          "Digital Wallet",
          "Digital Wallet",
          "Digital Wallet",
          "Digital Wallet",
          "Digital Wallet",
          "Digital Wallet",
          "Digital Wallet",
          "Digital Wallet",
          "Digital Wallet",
          "Digital Wallet",
          "Digital Wallet",
          "Digital Wallet",
          "Digital Wallet",
          "Digital Wallet",
          "Digital Wallet",
          "Digital Wallet",
          "Digital Wallet",
          "Digital Wallet",
          "Digital Wallet",
          "Digital Wallet",
          "Digital Wallet",
          "Digital Wallet",
          "Digital Wallet",
          "Digital Wallet",
          "Digital Wallet",
          "Digital Wallet",
          "Digital Wallet",
          "Digital Wallet",
          "Digital Wallet",
          "Digital Wallet",
          "Digital Wallet",
          "Digital Wallet",
          "Digital Wallet",
          "Digital Wallet",
          "Digital Wallet",
          "Digital Wallet",
          "Digital Wallet",
          "Digital Wallet",
          "Digital Wallet",
          "Digital Wallet",
          "Digital Wallet",
          "Digital Wallet",
          "Digital Wallet",
          "Digital Wallet",
          "Digital Wallet",
          "Digital Wallet",
          "Digital Wallet",
          "Digital Wallet",
          "Digital Wallet",
          "Digital Wallet",
          "Digital Wallet",
          "Digital Wallet",
          "Digital Wallet",
          "Digital Wallet",
          "Digital Wallet",
          "Digital Wallet",
          "Digital Wallet",
          "Digital Wallet",
          "Digital Wallet",
          "Digital Wallet",
          "Digital Wallet",
          "Digital Wallet",
          "Digital Wallet",
          "Digital Wallet",
          "Digital Wallet",
          "Digital Wallet",
          "Digital Wallet",
          "Digital Wallet",
          "Digital Wallet",
          "Digital Wallet",
          "Digital Wallet",
          "Digital Wallet",
          "Digital Wallet",
          "Digital Wallet",
          "Digital Wallet",
          "Digital Wallet",
          "Digital Wallet",
          "Digital Wallet",
          "Digital Wallet",
          "Digital Wallet",
          "Digital Wallet",
          "Digital Wallet",
          "Digital Wallet",
          "Digital Wallet",
          "Digital Wallet",
          "Digital Wallet",
          "Digital Wallet",
          "Digital Wallet",
          "Digital Wallet",
          "Digital Wallet",
          "Digital Wallet",
          "Digital Wallet",
          "Digital Wallet",
          "Digital Wallet",
          "Digital Wallet",
          "Digital Wallet",
          "Digital Wallet",
          "Digital Wallet"
         ],
         "xaxis": "x",
         "y": [
          986,
          303,
          491,
          633,
          992,
          1640,
          927,
          1243,
          1001,
          1822,
          430,
          1305,
          787,
          1399,
          398,
          672,
          557,
          958,
          1111,
          607,
          1427,
          902,
          697,
          1538,
          1479,
          1818,
          306,
          1358,
          1478,
          614,
          237,
          167,
          782,
          672,
          310,
          750,
          794,
          639,
          1832,
          1000,
          1801,
          1838,
          1013,
          570,
          1039,
          1768,
          1466,
          670,
          1634,
          1974,
          932,
          192,
          1527,
          1166,
          306,
          1241,
          631,
          1345,
          1279,
          189,
          1217,
          1044,
          1927,
          1661,
          1273,
          759,
          1131,
          1152,
          439,
          727,
          538,
          1041,
          1870,
          618,
          1043,
          1304,
          1928,
          1357,
          564,
          1346,
          924,
          1330,
          1857,
          1866,
          1754,
          1044,
          1187,
          1473,
          1646,
          669,
          459,
          1216,
          1639,
          1461,
          265,
          482,
          1594,
          889,
          1765,
          1498,
          110,
          337,
          1569,
          1370,
          834,
          1090,
          924,
          205,
          325,
          1626,
          1648,
          492,
          1854,
          300,
          546,
          1161,
          587,
          976,
          1352,
          1116,
          1981,
          369,
          1255,
          1314,
          152,
          1857,
          1574,
          1766,
          857,
          819,
          505,
          1120,
          521,
          811,
          1953,
          1667,
          1734,
          1922,
          1825,
          407,
          1250,
          861,
          738,
          1749,
          375,
          816,
          1402,
          798,
          880,
          1352,
          255,
          986,
          880,
          1294,
          705,
          1303,
          570,
          1025,
          1124,
          838,
          1388,
          1052,
          1003,
          1391,
          206,
          1355,
          714,
          1604,
          515,
          713,
          291,
          326,
          916,
          1186,
          1974,
          970,
          1849,
          276,
          1799,
          407,
          1411,
          1617,
          1309,
          1873,
          895,
          1931,
          469,
          1615,
          1022,
          236,
          466,
          1011,
          571,
          636,
          609,
          729,
          1196,
          1405,
          1133,
          1334,
          204,
          450,
          1255,
          228,
          1701,
          1501,
          1084,
          1556,
          1592,
          1604,
          1888,
          977,
          1425,
          989,
          169,
          974,
          1487,
          838,
          1786,
          1303,
          602,
          302,
          672,
          1816,
          1360,
          1320,
          1694,
          851,
          459,
          918,
          129,
          1902,
          207,
          943,
          1725,
          990,
          1561,
          705,
          556,
          797,
          956,
          996,
          377,
          651,
          210,
          860,
          1314,
          1549,
          777,
          1908,
          701,
          265,
          528,
          1362,
          1918,
          368,
          1115,
          1128,
          489,
          809,
          670,
          1585,
          655,
          674,
          850,
          518,
          518,
          1440,
          462,
          899,
          925,
          497,
          562,
          286,
          1511,
          528,
          1407,
          1410,
          1906,
          270,
          258,
          1610,
          1899,
          975,
          470,
          1101,
          1436,
          1581,
          1320,
          832,
          671,
          1757,
          105,
          1906,
          1547,
          707,
          1325,
          1129,
          475,
          934,
          1229,
          948,
          908,
          1078,
          825,
          1657
         ],
         "yaxis": "y"
        },
        {
         "alignmentgroup": "True",
         "hovertemplate": "Payment Method=%{x}<br>Order Value=%{y}<extra></extra>",
         "legendgroup": "Cash on Delivery",
         "marker": {
          "color": "#00cc96",
          "pattern": {
           "shape": ""
          }
         },
         "name": "Cash on Delivery",
         "offsetgroup": "Cash on Delivery",
         "orientation": "v",
         "showlegend": true,
         "textposition": "auto",
         "type": "bar",
         "x": [
          "Cash on Delivery",
          "Cash on Delivery",
          "Cash on Delivery",
          "Cash on Delivery",
          "Cash on Delivery",
          "Cash on Delivery",
          "Cash on Delivery",
          "Cash on Delivery",
          "Cash on Delivery",
          "Cash on Delivery",
          "Cash on Delivery",
          "Cash on Delivery",
          "Cash on Delivery",
          "Cash on Delivery",
          "Cash on Delivery",
          "Cash on Delivery",
          "Cash on Delivery",
          "Cash on Delivery",
          "Cash on Delivery",
          "Cash on Delivery",
          "Cash on Delivery",
          "Cash on Delivery",
          "Cash on Delivery",
          "Cash on Delivery",
          "Cash on Delivery",
          "Cash on Delivery",
          "Cash on Delivery",
          "Cash on Delivery",
          "Cash on Delivery",
          "Cash on Delivery",
          "Cash on Delivery",
          "Cash on Delivery",
          "Cash on Delivery",
          "Cash on Delivery",
          "Cash on Delivery",
          "Cash on Delivery",
          "Cash on Delivery",
          "Cash on Delivery",
          "Cash on Delivery",
          "Cash on Delivery",
          "Cash on Delivery",
          "Cash on Delivery",
          "Cash on Delivery",
          "Cash on Delivery",
          "Cash on Delivery",
          "Cash on Delivery",
          "Cash on Delivery",
          "Cash on Delivery",
          "Cash on Delivery",
          "Cash on Delivery",
          "Cash on Delivery",
          "Cash on Delivery",
          "Cash on Delivery",
          "Cash on Delivery",
          "Cash on Delivery",
          "Cash on Delivery",
          "Cash on Delivery",
          "Cash on Delivery",
          "Cash on Delivery",
          "Cash on Delivery",
          "Cash on Delivery",
          "Cash on Delivery",
          "Cash on Delivery",
          "Cash on Delivery",
          "Cash on Delivery",
          "Cash on Delivery",
          "Cash on Delivery",
          "Cash on Delivery",
          "Cash on Delivery",
          "Cash on Delivery",
          "Cash on Delivery",
          "Cash on Delivery",
          "Cash on Delivery",
          "Cash on Delivery",
          "Cash on Delivery",
          "Cash on Delivery",
          "Cash on Delivery",
          "Cash on Delivery",
          "Cash on Delivery",
          "Cash on Delivery",
          "Cash on Delivery",
          "Cash on Delivery",
          "Cash on Delivery",
          "Cash on Delivery",
          "Cash on Delivery",
          "Cash on Delivery",
          "Cash on Delivery",
          "Cash on Delivery",
          "Cash on Delivery",
          "Cash on Delivery",
          "Cash on Delivery",
          "Cash on Delivery",
          "Cash on Delivery",
          "Cash on Delivery",
          "Cash on Delivery",
          "Cash on Delivery",
          "Cash on Delivery",
          "Cash on Delivery",
          "Cash on Delivery",
          "Cash on Delivery",
          "Cash on Delivery",
          "Cash on Delivery",
          "Cash on Delivery",
          "Cash on Delivery",
          "Cash on Delivery",
          "Cash on Delivery",
          "Cash on Delivery",
          "Cash on Delivery",
          "Cash on Delivery",
          "Cash on Delivery",
          "Cash on Delivery",
          "Cash on Delivery",
          "Cash on Delivery",
          "Cash on Delivery",
          "Cash on Delivery",
          "Cash on Delivery",
          "Cash on Delivery",
          "Cash on Delivery",
          "Cash on Delivery",
          "Cash on Delivery",
          "Cash on Delivery",
          "Cash on Delivery",
          "Cash on Delivery",
          "Cash on Delivery",
          "Cash on Delivery",
          "Cash on Delivery",
          "Cash on Delivery",
          "Cash on Delivery",
          "Cash on Delivery",
          "Cash on Delivery",
          "Cash on Delivery",
          "Cash on Delivery",
          "Cash on Delivery",
          "Cash on Delivery",
          "Cash on Delivery",
          "Cash on Delivery",
          "Cash on Delivery",
          "Cash on Delivery",
          "Cash on Delivery",
          "Cash on Delivery",
          "Cash on Delivery",
          "Cash on Delivery",
          "Cash on Delivery",
          "Cash on Delivery",
          "Cash on Delivery",
          "Cash on Delivery",
          "Cash on Delivery",
          "Cash on Delivery",
          "Cash on Delivery",
          "Cash on Delivery",
          "Cash on Delivery",
          "Cash on Delivery",
          "Cash on Delivery",
          "Cash on Delivery",
          "Cash on Delivery",
          "Cash on Delivery",
          "Cash on Delivery",
          "Cash on Delivery",
          "Cash on Delivery",
          "Cash on Delivery",
          "Cash on Delivery",
          "Cash on Delivery",
          "Cash on Delivery",
          "Cash on Delivery",
          "Cash on Delivery",
          "Cash on Delivery",
          "Cash on Delivery",
          "Cash on Delivery",
          "Cash on Delivery",
          "Cash on Delivery",
          "Cash on Delivery",
          "Cash on Delivery",
          "Cash on Delivery",
          "Cash on Delivery",
          "Cash on Delivery",
          "Cash on Delivery",
          "Cash on Delivery",
          "Cash on Delivery",
          "Cash on Delivery",
          "Cash on Delivery",
          "Cash on Delivery",
          "Cash on Delivery",
          "Cash on Delivery",
          "Cash on Delivery",
          "Cash on Delivery",
          "Cash on Delivery",
          "Cash on Delivery",
          "Cash on Delivery",
          "Cash on Delivery",
          "Cash on Delivery",
          "Cash on Delivery",
          "Cash on Delivery",
          "Cash on Delivery",
          "Cash on Delivery",
          "Cash on Delivery",
          "Cash on Delivery",
          "Cash on Delivery",
          "Cash on Delivery",
          "Cash on Delivery",
          "Cash on Delivery",
          "Cash on Delivery",
          "Cash on Delivery",
          "Cash on Delivery",
          "Cash on Delivery",
          "Cash on Delivery",
          "Cash on Delivery",
          "Cash on Delivery",
          "Cash on Delivery",
          "Cash on Delivery",
          "Cash on Delivery",
          "Cash on Delivery",
          "Cash on Delivery",
          "Cash on Delivery",
          "Cash on Delivery",
          "Cash on Delivery",
          "Cash on Delivery",
          "Cash on Delivery",
          "Cash on Delivery",
          "Cash on Delivery",
          "Cash on Delivery",
          "Cash on Delivery",
          "Cash on Delivery",
          "Cash on Delivery",
          "Cash on Delivery",
          "Cash on Delivery",
          "Cash on Delivery",
          "Cash on Delivery",
          "Cash on Delivery",
          "Cash on Delivery",
          "Cash on Delivery",
          "Cash on Delivery",
          "Cash on Delivery",
          "Cash on Delivery",
          "Cash on Delivery",
          "Cash on Delivery",
          "Cash on Delivery",
          "Cash on Delivery",
          "Cash on Delivery",
          "Cash on Delivery",
          "Cash on Delivery",
          "Cash on Delivery",
          "Cash on Delivery",
          "Cash on Delivery",
          "Cash on Delivery",
          "Cash on Delivery",
          "Cash on Delivery",
          "Cash on Delivery",
          "Cash on Delivery",
          "Cash on Delivery",
          "Cash on Delivery",
          "Cash on Delivery",
          "Cash on Delivery",
          "Cash on Delivery",
          "Cash on Delivery",
          "Cash on Delivery",
          "Cash on Delivery",
          "Cash on Delivery",
          "Cash on Delivery",
          "Cash on Delivery",
          "Cash on Delivery",
          "Cash on Delivery",
          "Cash on Delivery",
          "Cash on Delivery",
          "Cash on Delivery",
          "Cash on Delivery",
          "Cash on Delivery",
          "Cash on Delivery",
          "Cash on Delivery",
          "Cash on Delivery",
          "Cash on Delivery",
          "Cash on Delivery",
          "Cash on Delivery",
          "Cash on Delivery",
          "Cash on Delivery",
          "Cash on Delivery",
          "Cash on Delivery",
          "Cash on Delivery",
          "Cash on Delivery",
          "Cash on Delivery",
          "Cash on Delivery",
          "Cash on Delivery",
          "Cash on Delivery",
          "Cash on Delivery",
          "Cash on Delivery",
          "Cash on Delivery",
          "Cash on Delivery",
          "Cash on Delivery",
          "Cash on Delivery",
          "Cash on Delivery",
          "Cash on Delivery",
          "Cash on Delivery",
          "Cash on Delivery",
          "Cash on Delivery",
          "Cash on Delivery",
          "Cash on Delivery",
          "Cash on Delivery",
          "Cash on Delivery",
          "Cash on Delivery",
          "Cash on Delivery",
          "Cash on Delivery",
          "Cash on Delivery",
          "Cash on Delivery",
          "Cash on Delivery",
          "Cash on Delivery",
          "Cash on Delivery",
          "Cash on Delivery",
          "Cash on Delivery",
          "Cash on Delivery",
          "Cash on Delivery",
          "Cash on Delivery",
          "Cash on Delivery",
          "Cash on Delivery",
          "Cash on Delivery",
          "Cash on Delivery",
          "Cash on Delivery",
          "Cash on Delivery",
          "Cash on Delivery",
          "Cash on Delivery",
          "Cash on Delivery",
          "Cash on Delivery",
          "Cash on Delivery",
          "Cash on Delivery",
          "Cash on Delivery",
          "Cash on Delivery",
          "Cash on Delivery",
          "Cash on Delivery",
          "Cash on Delivery",
          "Cash on Delivery",
          "Cash on Delivery",
          "Cash on Delivery",
          "Cash on Delivery",
          "Cash on Delivery",
          "Cash on Delivery",
          "Cash on Delivery",
          "Cash on Delivery",
          "Cash on Delivery",
          "Cash on Delivery",
          "Cash on Delivery",
          "Cash on Delivery",
          "Cash on Delivery",
          "Cash on Delivery",
          "Cash on Delivery",
          "Cash on Delivery",
          "Cash on Delivery",
          "Cash on Delivery",
          "Cash on Delivery",
          "Cash on Delivery",
          "Cash on Delivery",
          "Cash on Delivery",
          "Cash on Delivery",
          "Cash on Delivery",
          "Cash on Delivery",
          "Cash on Delivery",
          "Cash on Delivery",
          "Cash on Delivery",
          "Cash on Delivery",
          "Cash on Delivery"
         ],
         "xaxis": "x",
         "y": [
          937,
          1463,
          1992,
          439,
          1663,
          868,
          674,
          1714,
          789,
          1340,
          155,
          465,
          1627,
          1867,
          203,
          176,
          1891,
          126,
          1775,
          1056,
          898,
          1214,
          579,
          1574,
          464,
          1798,
          450,
          1778,
          352,
          902,
          1016,
          598,
          600,
          265,
          561,
          213,
          1891,
          1331,
          808,
          1248,
          438,
          1664,
          482,
          1573,
          173,
          1038,
          1399,
          1171,
          1745,
          1093,
          1438,
          1686,
          1236,
          1690,
          793,
          987,
          956,
          1100,
          557,
          1017,
          1187,
          938,
          1383,
          505,
          1849,
          820,
          753,
          1557,
          533,
          1235,
          879,
          265,
          904,
          841,
          1561,
          1710,
          1934,
          1085,
          1267,
          929,
          1362,
          1051,
          254,
          1338,
          187,
          1379,
          1196,
          311,
          1874,
          1387,
          984,
          465,
          375,
          479,
          1432,
          909,
          1024,
          1221,
          862,
          1481,
          882,
          1207,
          1419,
          335,
          155,
          1003,
          667,
          138,
          1663,
          736,
          200,
          1346,
          1425,
          195,
          552,
          291,
          585,
          1547,
          1478,
          1951,
          1562,
          283,
          876,
          889,
          787,
          629,
          1522,
          205,
          1394,
          778,
          1155,
          139,
          759,
          1341,
          1205,
          1551,
          1334,
          543,
          1450,
          326,
          1011,
          1562,
          1930,
          1831,
          444,
          323,
          1078,
          1712,
          287,
          1730,
          409,
          1674,
          1916,
          944,
          1310,
          585,
          1545,
          219,
          1535,
          346,
          486,
          798,
          448,
          1378,
          1468,
          386,
          865,
          824,
          1719,
          1610,
          1529,
          487,
          1037,
          436,
          580,
          1010,
          1181,
          1854,
          1809,
          1899,
          414,
          1597,
          1824,
          1395,
          857,
          1012,
          970,
          112,
          707,
          1856,
          1217,
          1461,
          1690,
          948,
          1035,
          1590,
          242,
          1324,
          813,
          1487,
          578,
          483,
          1815,
          516,
          407,
          1490,
          1966,
          1843,
          1923,
          1906,
          1604,
          1360,
          1073,
          171,
          1313,
          982,
          238,
          372,
          605,
          1848,
          1976,
          523,
          1530,
          489,
          1045,
          598,
          921,
          1835,
          955,
          1272,
          1573,
          203,
          767,
          1129,
          1151,
          392,
          1494,
          1367,
          1422,
          157,
          1392,
          1693,
          1076,
          1370,
          799,
          351,
          1478,
          1995,
          708,
          571,
          1843,
          999,
          1711,
          1498,
          1015,
          251,
          1318,
          1286,
          559,
          1679,
          1405,
          1810,
          533,
          239,
          1594,
          186,
          1811,
          769,
          951,
          545,
          983,
          393,
          1266,
          1047,
          988,
          724,
          1426,
          190,
          971,
          291,
          1365,
          237,
          1108,
          291,
          104,
          1360,
          410,
          155,
          542,
          969,
          1637,
          1823,
          816,
          1568,
          714,
          1858,
          1819,
          773,
          1370,
          1687,
          1736,
          484,
          1458,
          710,
          107,
          801,
          1810,
          948,
          595,
          873,
          262,
          1568,
          754,
          1945,
          1632,
          774,
          105,
          1340,
          1938,
          1655,
          1571,
          1511,
          1372,
          1002,
          483,
          986,
          1614,
          1460,
          1735,
          1798,
          1995,
          480,
          1287,
          1959,
          831,
          957,
          891,
          300,
          1680,
          1061,
          202,
          1248,
          1353,
          981,
          270,
          762,
          593,
          1127,
          1216,
          387,
          1269,
          546,
          1575,
          515,
          1627,
          553,
          1414
         ],
         "yaxis": "y"
        }
       ],
       "layout": {
        "barmode": "relative",
        "legend": {
         "title": {
          "text": "Payment Method"
         },
         "tracegroupgap": 0
        },
        "template": {
         "data": {
          "bar": [
           {
            "error_x": {
             "color": "#2a3f5f"
            },
            "error_y": {
             "color": "#2a3f5f"
            },
            "marker": {
             "line": {
              "color": "#E5ECF6",
              "width": 0.5
             },
             "pattern": {
              "fillmode": "overlay",
              "size": 10,
              "solidity": 0.2
             }
            },
            "type": "bar"
           }
          ],
          "barpolar": [
           {
            "marker": {
             "line": {
              "color": "#E5ECF6",
              "width": 0.5
             },
             "pattern": {
              "fillmode": "overlay",
              "size": 10,
              "solidity": 0.2
             }
            },
            "type": "barpolar"
           }
          ],
          "carpet": [
           {
            "aaxis": {
             "endlinecolor": "#2a3f5f",
             "gridcolor": "white",
             "linecolor": "white",
             "minorgridcolor": "white",
             "startlinecolor": "#2a3f5f"
            },
            "baxis": {
             "endlinecolor": "#2a3f5f",
             "gridcolor": "white",
             "linecolor": "white",
             "minorgridcolor": "white",
             "startlinecolor": "#2a3f5f"
            },
            "type": "carpet"
           }
          ],
          "choropleth": [
           {
            "colorbar": {
             "outlinewidth": 0,
             "ticks": ""
            },
            "type": "choropleth"
           }
          ],
          "contour": [
           {
            "colorbar": {
             "outlinewidth": 0,
             "ticks": ""
            },
            "colorscale": [
             [
              0,
              "#0d0887"
             ],
             [
              0.1111111111111111,
              "#46039f"
             ],
             [
              0.2222222222222222,
              "#7201a8"
             ],
             [
              0.3333333333333333,
              "#9c179e"
             ],
             [
              0.4444444444444444,
              "#bd3786"
             ],
             [
              0.5555555555555556,
              "#d8576b"
             ],
             [
              0.6666666666666666,
              "#ed7953"
             ],
             [
              0.7777777777777778,
              "#fb9f3a"
             ],
             [
              0.8888888888888888,
              "#fdca26"
             ],
             [
              1,
              "#f0f921"
             ]
            ],
            "type": "contour"
           }
          ],
          "contourcarpet": [
           {
            "colorbar": {
             "outlinewidth": 0,
             "ticks": ""
            },
            "type": "contourcarpet"
           }
          ],
          "heatmap": [
           {
            "colorbar": {
             "outlinewidth": 0,
             "ticks": ""
            },
            "colorscale": [
             [
              0,
              "#0d0887"
             ],
             [
              0.1111111111111111,
              "#46039f"
             ],
             [
              0.2222222222222222,
              "#7201a8"
             ],
             [
              0.3333333333333333,
              "#9c179e"
             ],
             [
              0.4444444444444444,
              "#bd3786"
             ],
             [
              0.5555555555555556,
              "#d8576b"
             ],
             [
              0.6666666666666666,
              "#ed7953"
             ],
             [
              0.7777777777777778,
              "#fb9f3a"
             ],
             [
              0.8888888888888888,
              "#fdca26"
             ],
             [
              1,
              "#f0f921"
             ]
            ],
            "type": "heatmap"
           }
          ],
          "heatmapgl": [
           {
            "colorbar": {
             "outlinewidth": 0,
             "ticks": ""
            },
            "colorscale": [
             [
              0,
              "#0d0887"
             ],
             [
              0.1111111111111111,
              "#46039f"
             ],
             [
              0.2222222222222222,
              "#7201a8"
             ],
             [
              0.3333333333333333,
              "#9c179e"
             ],
             [
              0.4444444444444444,
              "#bd3786"
             ],
             [
              0.5555555555555556,
              "#d8576b"
             ],
             [
              0.6666666666666666,
              "#ed7953"
             ],
             [
              0.7777777777777778,
              "#fb9f3a"
             ],
             [
              0.8888888888888888,
              "#fdca26"
             ],
             [
              1,
              "#f0f921"
             ]
            ],
            "type": "heatmapgl"
           }
          ],
          "histogram": [
           {
            "marker": {
             "pattern": {
              "fillmode": "overlay",
              "size": 10,
              "solidity": 0.2
             }
            },
            "type": "histogram"
           }
          ],
          "histogram2d": [
           {
            "colorbar": {
             "outlinewidth": 0,
             "ticks": ""
            },
            "colorscale": [
             [
              0,
              "#0d0887"
             ],
             [
              0.1111111111111111,
              "#46039f"
             ],
             [
              0.2222222222222222,
              "#7201a8"
             ],
             [
              0.3333333333333333,
              "#9c179e"
             ],
             [
              0.4444444444444444,
              "#bd3786"
             ],
             [
              0.5555555555555556,
              "#d8576b"
             ],
             [
              0.6666666666666666,
              "#ed7953"
             ],
             [
              0.7777777777777778,
              "#fb9f3a"
             ],
             [
              0.8888888888888888,
              "#fdca26"
             ],
             [
              1,
              "#f0f921"
             ]
            ],
            "type": "histogram2d"
           }
          ],
          "histogram2dcontour": [
           {
            "colorbar": {
             "outlinewidth": 0,
             "ticks": ""
            },
            "colorscale": [
             [
              0,
              "#0d0887"
             ],
             [
              0.1111111111111111,
              "#46039f"
             ],
             [
              0.2222222222222222,
              "#7201a8"
             ],
             [
              0.3333333333333333,
              "#9c179e"
             ],
             [
              0.4444444444444444,
              "#bd3786"
             ],
             [
              0.5555555555555556,
              "#d8576b"
             ],
             [
              0.6666666666666666,
              "#ed7953"
             ],
             [
              0.7777777777777778,
              "#fb9f3a"
             ],
             [
              0.8888888888888888,
              "#fdca26"
             ],
             [
              1,
              "#f0f921"
             ]
            ],
            "type": "histogram2dcontour"
           }
          ],
          "mesh3d": [
           {
            "colorbar": {
             "outlinewidth": 0,
             "ticks": ""
            },
            "type": "mesh3d"
           }
          ],
          "parcoords": [
           {
            "line": {
             "colorbar": {
              "outlinewidth": 0,
              "ticks": ""
             }
            },
            "type": "parcoords"
           }
          ],
          "pie": [
           {
            "automargin": true,
            "type": "pie"
           }
          ],
          "scatter": [
           {
            "fillpattern": {
             "fillmode": "overlay",
             "size": 10,
             "solidity": 0.2
            },
            "type": "scatter"
           }
          ],
          "scatter3d": [
           {
            "line": {
             "colorbar": {
              "outlinewidth": 0,
              "ticks": ""
             }
            },
            "marker": {
             "colorbar": {
              "outlinewidth": 0,
              "ticks": ""
             }
            },
            "type": "scatter3d"
           }
          ],
          "scattercarpet": [
           {
            "marker": {
             "colorbar": {
              "outlinewidth": 0,
              "ticks": ""
             }
            },
            "type": "scattercarpet"
           }
          ],
          "scattergeo": [
           {
            "marker": {
             "colorbar": {
              "outlinewidth": 0,
              "ticks": ""
             }
            },
            "type": "scattergeo"
           }
          ],
          "scattergl": [
           {
            "marker": {
             "colorbar": {
              "outlinewidth": 0,
              "ticks": ""
             }
            },
            "type": "scattergl"
           }
          ],
          "scattermapbox": [
           {
            "marker": {
             "colorbar": {
              "outlinewidth": 0,
              "ticks": ""
             }
            },
            "type": "scattermapbox"
           }
          ],
          "scatterpolar": [
           {
            "marker": {
             "colorbar": {
              "outlinewidth": 0,
              "ticks": ""
             }
            },
            "type": "scatterpolar"
           }
          ],
          "scatterpolargl": [
           {
            "marker": {
             "colorbar": {
              "outlinewidth": 0,
              "ticks": ""
             }
            },
            "type": "scatterpolargl"
           }
          ],
          "scatterternary": [
           {
            "marker": {
             "colorbar": {
              "outlinewidth": 0,
              "ticks": ""
             }
            },
            "type": "scatterternary"
           }
          ],
          "surface": [
           {
            "colorbar": {
             "outlinewidth": 0,
             "ticks": ""
            },
            "colorscale": [
             [
              0,
              "#0d0887"
             ],
             [
              0.1111111111111111,
              "#46039f"
             ],
             [
              0.2222222222222222,
              "#7201a8"
             ],
             [
              0.3333333333333333,
              "#9c179e"
             ],
             [
              0.4444444444444444,
              "#bd3786"
             ],
             [
              0.5555555555555556,
              "#d8576b"
             ],
             [
              0.6666666666666666,
              "#ed7953"
             ],
             [
              0.7777777777777778,
              "#fb9f3a"
             ],
             [
              0.8888888888888888,
              "#fdca26"
             ],
             [
              1,
              "#f0f921"
             ]
            ],
            "type": "surface"
           }
          ],
          "table": [
           {
            "cells": {
             "fill": {
              "color": "#EBF0F8"
             },
             "line": {
              "color": "white"
             }
            },
            "header": {
             "fill": {
              "color": "#C8D4E3"
             },
             "line": {
              "color": "white"
             }
            },
            "type": "table"
           }
          ]
         },
         "layout": {
          "annotationdefaults": {
           "arrowcolor": "#2a3f5f",
           "arrowhead": 0,
           "arrowwidth": 1
          },
          "autotypenumbers": "strict",
          "coloraxis": {
           "colorbar": {
            "outlinewidth": 0,
            "ticks": ""
           }
          },
          "colorscale": {
           "diverging": [
            [
             0,
             "#8e0152"
            ],
            [
             0.1,
             "#c51b7d"
            ],
            [
             0.2,
             "#de77ae"
            ],
            [
             0.3,
             "#f1b6da"
            ],
            [
             0.4,
             "#fde0ef"
            ],
            [
             0.5,
             "#f7f7f7"
            ],
            [
             0.6,
             "#e6f5d0"
            ],
            [
             0.7,
             "#b8e186"
            ],
            [
             0.8,
             "#7fbc41"
            ],
            [
             0.9,
             "#4d9221"
            ],
            [
             1,
             "#276419"
            ]
           ],
           "sequential": [
            [
             0,
             "#0d0887"
            ],
            [
             0.1111111111111111,
             "#46039f"
            ],
            [
             0.2222222222222222,
             "#7201a8"
            ],
            [
             0.3333333333333333,
             "#9c179e"
            ],
            [
             0.4444444444444444,
             "#bd3786"
            ],
            [
             0.5555555555555556,
             "#d8576b"
            ],
            [
             0.6666666666666666,
             "#ed7953"
            ],
            [
             0.7777777777777778,
             "#fb9f3a"
            ],
            [
             0.8888888888888888,
             "#fdca26"
            ],
            [
             1,
             "#f0f921"
            ]
           ],
           "sequentialminus": [
            [
             0,
             "#0d0887"
            ],
            [
             0.1111111111111111,
             "#46039f"
            ],
            [
             0.2222222222222222,
             "#7201a8"
            ],
            [
             0.3333333333333333,
             "#9c179e"
            ],
            [
             0.4444444444444444,
             "#bd3786"
            ],
            [
             0.5555555555555556,
             "#d8576b"
            ],
            [
             0.6666666666666666,
             "#ed7953"
            ],
            [
             0.7777777777777778,
             "#fb9f3a"
            ],
            [
             0.8888888888888888,
             "#fdca26"
            ],
            [
             1,
             "#f0f921"
            ]
           ]
          },
          "colorway": [
           "#636efa",
           "#EF553B",
           "#00cc96",
           "#ab63fa",
           "#FFA15A",
           "#19d3f3",
           "#FF6692",
           "#B6E880",
           "#FF97FF",
           "#FECB52"
          ],
          "font": {
           "color": "#2a3f5f"
          },
          "geo": {
           "bgcolor": "white",
           "lakecolor": "white",
           "landcolor": "#E5ECF6",
           "showlakes": true,
           "showland": true,
           "subunitcolor": "white"
          },
          "hoverlabel": {
           "align": "left"
          },
          "hovermode": "closest",
          "mapbox": {
           "style": "light"
          },
          "paper_bgcolor": "white",
          "plot_bgcolor": "#E5ECF6",
          "polar": {
           "angularaxis": {
            "gridcolor": "white",
            "linecolor": "white",
            "ticks": ""
           },
           "bgcolor": "#E5ECF6",
           "radialaxis": {
            "gridcolor": "white",
            "linecolor": "white",
            "ticks": ""
           }
          },
          "scene": {
           "xaxis": {
            "backgroundcolor": "#E5ECF6",
            "gridcolor": "white",
            "gridwidth": 2,
            "linecolor": "white",
            "showbackground": true,
            "ticks": "",
            "zerolinecolor": "white"
           },
           "yaxis": {
            "backgroundcolor": "#E5ECF6",
            "gridcolor": "white",
            "gridwidth": 2,
            "linecolor": "white",
            "showbackground": true,
            "ticks": "",
            "zerolinecolor": "white"
           },
           "zaxis": {
            "backgroundcolor": "#E5ECF6",
            "gridcolor": "white",
            "gridwidth": 2,
            "linecolor": "white",
            "showbackground": true,
            "ticks": "",
            "zerolinecolor": "white"
           }
          },
          "shapedefaults": {
           "line": {
            "color": "#2a3f5f"
           }
          },
          "ternary": {
           "aaxis": {
            "gridcolor": "white",
            "linecolor": "white",
            "ticks": ""
           },
           "baxis": {
            "gridcolor": "white",
            "linecolor": "white",
            "ticks": ""
           },
           "bgcolor": "#E5ECF6",
           "caxis": {
            "gridcolor": "white",
            "linecolor": "white",
            "ticks": ""
           }
          },
          "title": {
           "x": 0.05
          },
          "xaxis": {
           "automargin": true,
           "gridcolor": "white",
           "linecolor": "white",
           "ticks": "",
           "title": {
            "standoff": 15
           },
           "zerolinecolor": "white",
           "zerolinewidth": 2
          },
          "yaxis": {
           "automargin": true,
           "gridcolor": "white",
           "linecolor": "white",
           "ticks": "",
           "title": {
            "standoff": 15
           },
           "zerolinecolor": "white",
           "zerolinewidth": 2
          }
         }
        },
        "title": {
         "text": "Distribution of Order Value by Payment Method"
        },
        "xaxis": {
         "anchor": "y",
         "categoryarray": [
          "Credit Card",
          "Digital Wallet",
          "Cash on Delivery"
         ],
         "categoryorder": "array",
         "domain": [
          0,
          1
         ],
         "title": {
          "text": "Payment Method"
         }
        },
        "yaxis": {
         "anchor": "x",
         "domain": [
          0,
          1
         ],
         "title": {
          "text": "Order Value"
         }
        }
       }
      }
     },
     "metadata": {},
     "output_type": "display_data"
    }
   ],
   "source": [
    "import plotly.express as px\n",
    "\n",
    "# Create bar chart with Plotly Express\n",
    "fig = px.bar(df, x='Payment Method', y='Order Value', \n",
    "             title='Distribution of Order Value by Payment Method',\n",
    "             labels={'Payment Method': 'Payment Method', 'Order Value': 'Order Value'},\n",
    "             color='Payment Method')\n",
    "\n",
    "# Show the plot\n",
    "fig.show()\n"
   ]
  }
 ],
 "metadata": {
  "kernelspec": {
   "display_name": ".venv",
   "language": "python",
   "name": "python3"
  },
  "language_info": {
   "codemirror_mode": {
    "name": "ipython",
    "version": 3
   },
   "file_extension": ".py",
   "mimetype": "text/x-python",
   "name": "python",
   "nbconvert_exporter": "python",
   "pygments_lexer": "ipython3",
   "version": "3.11.9"
  }
 },
 "nbformat": 4,
 "nbformat_minor": 2
}
